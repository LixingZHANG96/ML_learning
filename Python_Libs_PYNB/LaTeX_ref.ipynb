{
 "cells": [
  {
   "cell_type": "markdown",
   "metadata": {},
   "source": [
    "# Jupyter Notebook 中的LaTeX数学公式\n",
    "字符、数学函数参考：[LATEX Mathematical Symbols](https://www.caam.rice.edu/~heinken/latex/symbols.pdf)"
   ]
  },
  {
   "cell_type": "markdown",
   "metadata": {},
   "source": [
    "---\n",
    "## 基本操作方法"
   ]
  },
  {
   "cell_type": "markdown",
   "metadata": {},
   "source": [
    "### 在Markdown模块中显示LaTeX公式"
   ]
  },
  {
   "cell_type": "markdown",
   "metadata": {},
   "source": [
    "1.将LaTeX公式插入到$\\mathcal{$}$和$\\mathcal{$}$之间，可以用于行内公式的显示，比如: $x+y=z$可以直接插入文字间<br />2.将LaTeX公式插入到$\\mathcal{$}\\mathcal{$}$和$\\mathcal{$}\\mathcal{$}$之间，可以用于另起一行单独显示公式，比如: $$x*y=z$$"
   ]
  },
  {
   "cell_type": "markdown",
   "metadata": {},
   "source": [
    "### 利用Python代码生成LaTeX公式"
   ]
  },
  {
   "cell_type": "markdown",
   "metadata": {},
   "source": [
    "首先需要导入相应模块：\n",
    "``` python\n",
    "from IPython.display import Latex\n",
    "```\n",
    "使用函数*Latex()*，输入参数为LaTeX公式字符串即可，比如："
   ]
  },
  {
   "cell_type": "code",
   "execution_count": 3,
   "metadata": {},
   "outputs": [],
   "source": [
    "from IPython.display import Latex"
   ]
  },
  {
   "cell_type": "code",
   "execution_count": 4,
   "metadata": {},
   "outputs": [
    {
     "data": {
      "text/latex": [
       "$\\sum_{i=1}^n a_i=0$"
      ],
      "text/plain": [
       "<IPython.core.display.Latex object>"
      ]
     },
     "execution_count": 4,
     "metadata": {},
     "output_type": "execute_result"
    }
   ],
   "source": [
    "Latex(r\"$\\sum_{i=1}^n a_i=0$\")"
   ]
  },
  {
   "cell_type": "markdown",
   "metadata": {},
   "source": [
    "---\n",
    "## 基本语法"
   ]
  },
  {
   "cell_type": "markdown",
   "metadata": {},
   "source": [
    "### 文字格式调整"
   ]
  },
  {
   "cell_type": "markdown",
   "metadata": {},
   "source": [
    "#### 文字大小\n",
    "在公式起始位置插入对应指令即可"
   ]
  },
  {
   "cell_type": "markdown",
   "metadata": {},
   "source": [
    "| | | | | | | | |\n",
    "|:---|:---|:---|:---|:---|:---|:---|:---|\n",
    "|$\\tiny 最小$|\\tiny |$\\scriptsize 超小$|\\scriptsize|$\\small 小$|\\small|$\\normalsize 正常$|\\normalsize |\n",
    "|$\\large 大$|\\large|$\\Large 很大$|\\Large|$\\LARGE 超大$|\\LARGE|$\\huge 巨大$|\\huge|\n",
    "|$\\Huge 最大$|\\Huge|"
   ]
  },
  {
   "cell_type": "markdown",
   "metadata": {},
   "source": [
    "#### 字体\n",
    "\\\\[字体名称]{[文字内容]}"
   ]
  },
  {
   "cell_type": "markdown",
   "metadata": {},
   "source": [
    "| | | | | | | | |\n",
    "|:---|:---|:---|:---|:---|:---|:---|:---|\n",
    "|$\\mathcal{LaTeX}$|\\mathcal{LaTeX} |$\\mathbb{LaTeX}$|\\mathbb{LaTeX}|$\\mathfrak{LaTeX}$|\\mathfrak{LaTeX}|\n",
    "|$\\mathsf{LaTeX}$|\\mathsf{LaTeX}|$\\mathbf{LaTeX}$|\\mathbf{LaTeX}|"
   ]
  },
  {
   "cell_type": "markdown",
   "metadata": {},
   "source": [
    "### 特殊字符举例\n",
    "反斜杠\\加对应的字符名"
   ]
  },
  {
   "cell_type": "markdown",
   "metadata": {},
   "source": [
    "| | | | | | | | | | | | | | | | | | |\n",
    "|:---|:---|:---|:---|:---|:---|:---|:---|:---|:---|:---|:---|:---|:---|:---|:---|:---|:---|\n",
    "|$\\alpha$|\\alpha|$\\beta$|\\beta|$\\chi$|\\chi|$\\delta$|\\delta|$\\epsilon$|\\epsilon|$\\eta$|\\eta|$\\gamma$|\\gamma|$\\iota$|\\iota|\n",
    "|$\\kappa$|\\kappa|$\\lambda$|\\lambda|$\\mu$|\\mu|$\\nu$|\\nu|$\\omega$|\\omega|$\\phi$|\\phi|$\\pi$|\\pi|$\\psi$|\\psi|\n",
    "|$\\rho$|\\rho|$\\sigma$|\\sigma|$\\tau$|\\tau|$\\theta$|\\theta|$\\upsilon$|\\upsilon|$\\xi$|\\xi|$\\zeta$|\\zeta|$\\digamma$|\\digamma|\n",
    "|$\\varepsilon$|\\varepsilon|$\\varkappa$|\\varkappa|$\\varphi$|\\varphi|$\\varpi$|\\varpi|$\\varrho$|\\varrho|$\\varsigma$|\\varsigma|$\\vartheta$|\\vartheta|\n",
    "|$\\Delta$|\\Delta|$\\Gamma$|\\Gamma|$ \\Lambda $| \\Lambda |$\\Omega $|\\Omega |$\\Phi$|\\Phi|$\\Pi$|\\Pi|$\\Psi$|\\Psi|$\\Sigma$|\\Sigma|"
   ]
  },
  {
   "cell_type": "markdown",
   "metadata": {},
   "source": [
    "### 公式结构举例\n",
    "基本结构为 \\\\[函数名称]{[参数1]}{[参数2]}"
   ]
  },
  {
   "cell_type": "markdown",
   "metadata": {},
   "source": [
    "| | | | | | | | |\n",
    "|:---|:---|:---|:---|:---|:---|:---|:---|\n",
    "|$\\frac{abc}{xyz}$|\\frac{abc}{xyz}|$f'$|f'|$\\sqrt{abc}$|\\sqrt{abc}|$\\sqrt[n]{abc}$|\\sqrt[n]{abc}|\n",
    "|$\\overline{abc}$|\\overline{abc}|$\\underline{abc}$|\\underline{abc}|$\\widehat{abc}$|\\widehat{abc}|$\\widetilde{abc}$|\\widetilde{abc}|\n",
    "|$\\overrightarrow{abc}$|\\overrightarrow{abc}|$\\overleftarrow{abc}$|\\overleftarrow{abc}|$\\overbrace{abc}$|\\overbrace{abc}|$\\underbrace{abc}$|\\underbrace{abc}|"
   ]
  },
  {
   "cell_type": "markdown",
   "metadata": {},
   "source": [
    "### 常用函数举例\n",
    "<p>正常输入即可，注意要加反斜杠\\以显示希腊体"
   ]
  },
  {
   "cell_type": "markdown",
   "metadata": {},
   "source": [
    "| | | | |\n",
    "|:---|:---|:---|:---|\n",
    "|$\\arccos(at+\\frac{\\pi}{2})$|\\arccos(at+\\frac{\\pi}{2})|$\\csc(\\frac{\\sqrt{3}}{2})$|\\csc(\\frac{\\sqrt{3}}{2})|\n",
    "|$\\exp(-\\infty)$|\\exp(-\\infty)|$\\lim_{i\\rightarrow+\\infty} x_i=0$|\\lim_{i\\rightarrow+\\infty} x_i=0|"
   ]
  },
  {
   "cell_type": "markdown",
   "metadata": {},
   "source": [
    "### 多行数据显示"
   ]
  },
  {
   "cell_type": "markdown",
   "metadata": {},
   "source": [
    "基本语法结构： *\\begin{array}{[列对齐格式]} [数据1,1] & [数据1,2] & 数据1,3 \\\\ 数据2,1 & 数据2,2 &数据2,3 \\\\... \\ end{array}*\n",
    "<p> $\\bigstar\\bigstar$其中，[列对齐格式]一项以l、r、c指定每一列的对齐方式，其间加入|表示分割线\n",
    "<p> $\\bigstar\\bigstar$注意，这里的括号需要使用大括号格式输入，如\\left(、\\right}"
   ]
  },
  {
   "cell_type": "markdown",
   "metadata": {},
   "source": [
    "#### 矩阵例"
   ]
  },
  {
   "cell_type": "markdown",
   "metadata": {},
   "source": [
    "$$\\left( \\begin{array}{lll} 2\\tau & 7\\phi-frac{5}{12}&x\\\\ 3\\psi & \\frac{\\pi}{8}&y\\end{array} \\right) \\mbox{ and }\\left[ \\begin{array}{cc|r} 3 & 4 & 5 \\\\ 1 & 3 & 729 \\end{array} \\right]$$"
   ]
  },
  {
   "cell_type": "markdown",
   "metadata": {},
   "source": [
    "#### 多项式例"
   ]
  },
  {
   "cell_type": "markdown",
   "metadata": {},
   "source": [
    "$$ f(z) = \\left\\{ \\begin{array}{rcl} \\overline{\\overline{z^2}+\\cos z} & \\mbox{for} & |z|<3 \\\\ 0 & \\mbox{for} & 3\\leq|z|\\leq5 \\\\ \\sin\\overline{z} & \\mbox{for} & |z|>5 \\end{array}\\right. $$"
   ]
  },
  {
   "cell_type": "markdown",
   "metadata": {},
   "source": [
    "---\n",
    "## 实例"
   ]
  },
  {
   "cell_type": "markdown",
   "metadata": {},
   "source": [
    "### 分数与开方"
   ]
  },
  {
   "cell_type": "markdown",
   "metadata": {},
   "source": [
    "$\\frac{7x+5}{1+y^2} \\sqrt{x^2+y^2} \\sqrt[n]{x^n+y^n}$ \n",
    "```latex\n",
    "\\frac{7x+5}{1+y^2} \\sqrt{x^2+y^2} \\sqrt[n]{x^n+y^n}\n",
    "```\n",
    "******\n",
    "$f(x,y,z)=3y^2z\\left(3+\\frac{7x+5}{1+y^2}\\right) $\n",
    "```latex\n",
    "f(x,y,z)=3y^2z\\left(3+\\frac{7x+5}{1+y^2}\\right)\n",
    "```"
   ]
  },
  {
   "cell_type": "markdown",
   "metadata": {},
   "source": [
    "### 矩阵与行列式"
   ]
  },
  {
   "cell_type": "markdown",
   "metadata": {},
   "source": [
    "$\\left( \\begin{array}{ccc}a & b & c \\\\d & e & f \\\\g & h & i \\end{array} \\right)$ \n",
    "```latex\n",
    "\\left( \\begin{array}{ccc}a & b & c \\\\d & e & f \\\\g & h & i \\end{array} \\right)\n",
    "```\n",
    "******\n",
    "$\\chi(\\lambda) = \\left| \\begin{array}{ccc}\\lambda - a & -b & -c \\\\-d & \\lambda - e & -f \\\\-g & -h & \\lambda - i \\end{array} \\right|$\n",
    "```latex\n",
    "\\chi(\\lambda) = \\left| \\begin{array}{ccc}\\lambda - a & -b & -c \\\\-d & \\lambda - e & -f \\\\-g & -h & \\lambda - i \\end{array} \\right|\n",
    "```"
   ]
  },
  {
   "cell_type": "markdown",
   "metadata": {},
   "source": [
    "### 导数、极限、求和、积分"
   ]
  },
  {
   "cell_type": "markdown",
   "metadata": {},
   "source": [
    "$\\frac{\\partial u}{\\partial t} = h^2 \\left( \\frac{\\partial^2 u}{\\partial x^2} + \\frac{\\partial^2 u}{\\partial y^2} + \\frac{\\partial^2 u}{\\partial z^2}\\right)$\n",
    "```latex\n",
    "\\frac{\\partial u}{\\partial t} = h^2 \\left( \\frac{\\partial^2 u}{\\partial x^2} + \\frac{\\partial^2 u}{\\partial y^2} + \\frac{\\partial^2 u}{\\partial z^2}\\right)\n",
    "```\n",
    "******\n",
    "$\\lim_{x \\to 0} \\frac{3x^2 +7x^3}{x^2 +5x^4} = 3$\n",
    "```latex\n",
    "\\lim_{x \\to 0} \\frac{3x^2 +7x^3}{x^2 +5x^4} = 3\n",
    "```\n",
    "******\n",
    "$\\sum_{k=1}^n k^2 = \\frac{1}{2} n (n+1)$\n",
    "```latex\n",
    "\\sum_{k=1}^n k^2 = \\frac{1}{2} n (n+1)\n",
    "```\n",
    "******\n",
    "$\\int \\cos \\theta \\,d\\theta = \\sin \\theta$\n",
    "```latex\n",
    "\\int \\cos \\theta \\,d\\theta = \\sin \\theta\n",
    "```"
   ]
  },
  {
   "cell_type": "markdown",
   "metadata": {},
   "source": [
    "本文中的实例参考了CSDN博主「halazi100」的原创文章\n",
    "原文链接：https://blog.csdn.net/halazi100/article/details/79706172$ "
   ]
  },
  {
   "cell_type": "code",
   "execution_count": null,
   "metadata": {},
   "outputs": [],
   "source": []
  }
 ],
 "metadata": {
  "kernelspec": {
   "display_name": "Python 3",
   "language": "python",
   "name": "python3"
  },
  "language_info": {
   "codemirror_mode": {
    "name": "ipython",
    "version": 3
   },
   "file_extension": ".py",
   "mimetype": "text/x-python",
   "name": "python",
   "nbconvert_exporter": "python",
   "pygments_lexer": "ipython3",
   "version": "3.7.5"
  },
  "toc": {
   "base_numbering": 1,
   "nav_menu": {},
   "number_sections": true,
   "sideBar": true,
   "skip_h1_title": false,
   "title_cell": "Table of Contents",
   "title_sidebar": "Contents",
   "toc_cell": false,
   "toc_position": {},
   "toc_section_display": true,
   "toc_window_display": false
  }
 },
 "nbformat": 4,
 "nbformat_minor": 2
}
