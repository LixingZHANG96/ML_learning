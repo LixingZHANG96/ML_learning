{
 "cells": [
  {
   "cell_type": "markdown",
   "metadata": {},
   "source": [
    "# OpenCV图像处理命令整理\n",
    "[OpenCV4.2.0 Documentation](https://docs.opencv.org/4.2.0/)"
   ]
  },
  {
   "cell_type": "code",
   "execution_count": 1,
   "metadata": {},
   "outputs": [],
   "source": [
    "import numpy as np\n",
    "import cv2 as cv\n",
    "import sys\n",
    "sys.path.append(\"./helper_functions/\")"
   ]
  },
  {
   "cell_type": "code",
   "execution_count": 2,
   "metadata": {},
   "outputs": [],
   "source": [
    "from opencv_helper_functions import *"
   ]
  },
  {
   "cell_type": "markdown",
   "metadata": {},
   "source": [
    "## 图像的读取与保存"
   ]
  },
  {
   "cell_type": "markdown",
   "metadata": {},
   "source": [
    "### 读取图像"
   ]
  },
  {
   "cell_type": "markdown",
   "metadata": {},
   "source": [
    "#### 从图像文件中读取"
   ]
  },
  {
   "cell_type": "code",
   "execution_count": 27,
   "metadata": {},
   "outputs": [],
   "source": [
    "img1 = cv.imread(\"./references/images/labrador.jpg\")  # 创建一个Mat对象，实质为矩阵\n",
    "img1_res = cv.resize(img1[40:540,70:570], (500,500), interpolation = cv.INTER_CUBIC)\n",
    "img2 = cv.imread(\"./references/images/SXC.jpg\")\n",
    "img_grayscale = cv.imread(\"./references/images/labrador.jpg\", 0)  # 黑白图像对象\n",
    "img_unchanged = cv.imread(\"./references/images/labrador.jpg\", 1)  # 保留原有alpha通道"
   ]
  },
  {
   "cell_type": "code",
   "execution_count": 28,
   "metadata": {},
   "outputs": [],
   "source": [
    "img_preview(img1_res)"
   ]
  },
  {
   "cell_type": "markdown",
   "metadata": {},
   "source": [
    "### 显示图像"
   ]
  },
  {
   "cell_type": "code",
   "execution_count": 6,
   "metadata": {},
   "outputs": [],
   "source": [
    "cv.imshow('labrador_b', img[:, :, 0])  # 将Mat对象输出为图像，并指定图像名称\n",
    "cv.imshow('labrador_r', img[:, :, 2])\n",
    "cv.waitKey(0)\n",
    "cv.destroyWindow('labrador_b')  # 关闭指定图像窗口\n",
    "cv.waitKey(0)\n",
    "cv.destroyAllWindows()"
   ]
  },
  {
   "cell_type": "markdown",
   "metadata": {},
   "source": [
    "## 图像处理"
   ]
  },
  {
   "cell_type": "markdown",
   "metadata": {},
   "source": [
    "### 图像信息处理"
   ]
  },
  {
   "cell_type": "markdown",
   "metadata": {},
   "source": [
    "#### 图像基本信息"
   ]
  },
  {
   "cell_type": "code",
   "execution_count": 7,
   "metadata": {
    "scrolled": true
   },
   "outputs": [
    {
     "name": "stdout",
     "output_type": "stream",
     "text": [
      "The size of image matrix is 551*809*3\n",
      "\n",
      "The size and format of file is 1337277 and uint8.\n"
     ]
    }
   ],
   "source": [
    "print('The size of image matrix is %d*%d*%d\\n' % img.shape)\n",
    "print('The size and format of file is %d and %s.' % (img.size, img.dtype))"
   ]
  },
  {
   "cell_type": "markdown",
   "metadata": {},
   "source": [
    "#### 图像色彩信道"
   ]
  },
  {
   "cell_type": "code",
   "execution_count": 11,
   "metadata": {},
   "outputs": [],
   "source": [
    "img_b, img_g, img_r = cv.split(img1)  # 将原图像拆分为信道矩阵\n",
    "img_RGB = cv.merge([img_r, img_g, img_b])  # 将对应信道整合为一张图像"
   ]
  },
  {
   "cell_type": "code",
   "execution_count": 60,
   "metadata": {},
   "outputs": [
    {
     "name": "stdout",
     "output_type": "stream",
     "text": [
      "COLOR_BGR2HSV\n",
      "COLOR_BGR2HSV_FULL\n",
      "COLOR_HSV2BGR\n",
      "COLOR_HSV2BGR_FULL\n",
      "COLOR_HSV2RGB\n",
      "COLOR_HSV2RGB_FULL\n",
      "COLOR_RGB2HSV\n",
      "COLOR_RGB2HSV_FULL\n"
     ]
    }
   ],
   "source": [
    "for i in dir(cv):\n",
    "    if i.startswith('COLOR_'):\n",
    "        if 'HSV' in i:\n",
    "            print(i)"
   ]
  },
  {
   "cell_type": "markdown",
   "metadata": {},
   "source": [
    "#### 局部信息的提取与编辑"
   ]
  },
  {
   "cell_type": "code",
   "execution_count": 10,
   "metadata": {},
   "outputs": [],
   "source": [
    "img.item(10, 10, 2)  # 提取单个像素点的值\n",
    "img.itemset((10, 10, 2), 100)  # 编辑单个像素点\n",
    "head = img[70:210, 425:570]  # 提取图像区域\n",
    "img[410:550, 0:145] = head  # 编辑图像区域\n",
    "img_preview(head)"
   ]
  },
  {
   "cell_type": "markdown",
   "metadata": {},
   "source": [
    "#### 特殊图像生成"
   ]
  },
  {
   "cell_type": "code",
   "execution_count": 29,
   "metadata": {},
   "outputs": [],
   "source": [
    "rose = cv.imread('./references/images/White_Rose.jpg')\n",
    "rose1 = rose[80:580, 250:750]"
   ]
  },
  {
   "cell_type": "code",
   "execution_count": 63,
   "metadata": {},
   "outputs": [],
   "source": [
    "img2HSV = cv.cvtColor(rose1,cv.COLOR_BGR2HSV) #图像矩阵转换，参数可以用dir()命令查看\n",
    "img2gray = cv.cvtColor(rose1,cv.COLOR_BGR2GRAY) #生成灰度图像\n",
    "ret, mask = cv.threshold(img2gray, 30, 255, cv.THRESH_BINARY) #生成黑白图像mask"
   ]
  },
  {
   "cell_type": "markdown",
   "metadata": {},
   "source": [
    "### 图像矩阵计算"
   ]
  },
  {
   "cell_type": "markdown",
   "metadata": {},
   "source": [
    "#### 线性运算"
   ]
  },
  {
   "cell_type": "code",
   "execution_count": 10,
   "metadata": {},
   "outputs": [],
   "source": [
    "cv.imshow('image_addition', cv.add(img1_res,img2)) #矩阵相加，注意溢出\n",
    "cv.imshow('image_blending', cv.addWeighted(img1_res,0.7,img2,0.3,0)) #矩阵混合\n",
    "cv.waitKey(0)\n",
    "cv.destroyAllWindows()"
   ]
  },
  {
   "cell_type": "markdown",
   "metadata": {},
   "source": [
    "#### 位运算"
   ]
  },
  {
   "cell_type": "code",
   "execution_count": 39,
   "metadata": {},
   "outputs": [],
   "source": [
    "ret, mask = cv.threshold(img2gray, 30, 255, cv.THRESH_BINARY)\n",
    "mask_inv = cv.bitwise_not(mask)  # 否运算\n",
    "\n",
    "img1_bg = cv.bitwise_and(img1_res, img1_res, mask=mask_inv) #和运算\n",
    "img_rose1_fg = cv.bitwise_and(rose1, rose1, mask=mask)\n",
    "img_result = cv.add(img1_bg,img_rose1_fg)\n",
    "img_preview(img_result)"
   ]
  },
  {
   "cell_type": "markdown",
   "metadata": {},
   "source": [
    "### 绘图功能"
   ]
  },
  {
   "cell_type": "markdown",
   "metadata": {},
   "source": [
    "#### 绘制各种几何图形"
   ]
  },
  {
   "cell_type": "code",
   "execution_count": 46,
   "metadata": {},
   "outputs": [],
   "source": [
    "# 绘制线段，参数依次为Mat对象、起点、终点、颜色BGR、宽度\n",
    "cv.line(img, (120, 525), (530, 440), (255, 0, 0), 5)\n",
    "# 绘制矩形，参数依次为Mat对象、两个顶点坐标、颜色BGR、宽度\n",
    "cv.rectangle(img, (425, 70), (570, 210), (0, 255, 0), 3)\n",
    "cv.circle(img, (275, 335), 30, (255, 255, 255), -1)  # 绘制圆形，参数依次为圆心\n",
    "pts = np.array([[10, 5], [20, 30], [70, 20], [50, 10]], np.int32)  # 绘制多边形\n",
    "pts = pts.reshape((-1, 1, 2))\n",
    "cv.polylines(img, [pts], True, (0, 255, 255), 4)\n",
    "cv.imshow('modified', img)\n",
    "cv.waitKey(0)\n",
    "cv.destroyAllWindows()"
   ]
  },
  {
   "cell_type": "markdown",
   "metadata": {},
   "source": [
    "#### 插入文字"
   ]
  },
  {
   "cell_type": "code",
   "execution_count": 45,
   "metadata": {},
   "outputs": [],
   "source": [
    "font = cv.FONT_HERSHEY_SIMPLEX\n",
    "text = cv.putText(img, 'SunXiaochuan 19.19%', (430, 235),\n",
    "                  font, 0.5, (255, 255, 255), 1, cv.LINE_AA)\n",
    "cv.imshow('modified', img)\n",
    "cv.waitKey(0)\n",
    "cv.destroyAllWindows()"
   ]
  },
  {
   "cell_type": "markdown",
   "metadata": {},
   "source": [
    "#### 用鼠标画画~"
   ]
  },
  {
   "cell_type": "code",
   "execution_count": 3,
   "metadata": {},
   "outputs": [],
   "source": [
    "cv.imshow('blank', img_blank)\n",
    "cv.setMouseCallback('blank', mouse_brush)\n",
    "\n",
    "while True:\n",
    "    cv.imshow('blank', img_blank)\n",
    "    k = cv.waitKey(1)\n",
    "    if k == ord('m'):\n",
    "        mode = -mode\n",
    "    elif k == ord('i'):\n",
    "        if color[0] < 255:\n",
    "            color[0] += 1\n",
    "    elif k == ord('j'):\n",
    "        if color[0] > 0:\n",
    "            color[0] -= 1\n",
    "    elif k == ord('o'):\n",
    "        if color[1] < 255:\n",
    "            color[1] += 1\n",
    "    elif k == ord('k'):\n",
    "        if color[1] > 0:\n",
    "            color[1] -= 1\n",
    "    elif k == ord('p'):\n",
    "        if color[2] < 255:\n",
    "            color[2] += 1\n",
    "    elif k == ord('l'):\n",
    "        if color[2] > 0:\n",
    "            color[2] -= 1\n",
    "    elif k == ord('b') and line_width > 1:\n",
    "        line_width -= 1\n",
    "    elif k == ord('n') and line_width < 100:\n",
    "        line_width += 1\n",
    "    elif k == ord('q'):\n",
    "        break\n",
    "\n",
    "cv.destroyAllWindows()"
   ]
  },
  {
   "cell_type": "markdown",
   "metadata": {},
   "source": [
    "## 视频信号"
   ]
  },
  {
   "cell_type": "markdown",
   "metadata": {},
   "source": [
    "### 外接摄像头调用"
   ]
  },
  {
   "cell_type": "code",
   "execution_count": 4,
   "metadata": {},
   "outputs": [],
   "source": [
    "cap = cv.VideoCapture(0)  # 指定硬件编号，创建一个VideoCapture对象，电脑内置摄像头编号通常为0"
   ]
  },
  {
   "cell_type": "markdown",
   "metadata": {},
   "source": [
    "#### 摄像头参数的读取与设置\n",
    "[get函数参数列表](https://docs.opencv.org/3.4/d4/d15/group__videoio__flags__base.html#gaeb8dd9c89c10a5c63c139bf7c4f5704d)"
   ]
  },
  {
   "cell_type": "code",
   "execution_count": 5,
   "metadata": {
    "scrolled": true
   },
   "outputs": [
    {
     "name": "stdout",
     "output_type": "stream",
     "text": [
      "The size of the camera frame is 640*480\n"
     ]
    }
   ],
   "source": [
    "frame_width = cap.get(cv.CAP_PROP_FRAME_WIDTH)\n",
    "frame_height = cap.get(cv.CAP_PROP_FRAME_HEIGHT)\n",
    "print(\"The size of the camera frame is %d*%d\" % (frame_width, frame_height))\n",
    "ret = cap.set(cv.CAP_PROP_FRAME_WIDTH, int(frame_width/4))\n",
    "ret = cap.set(cv.CAP_PROP_FRAME_HEIGHT, int(frame_height/4))"
   ]
  },
  {
   "cell_type": "markdown",
   "metadata": {},
   "source": [
    "#### 打开外接摄像头，拍摄并保存"
   ]
  },
  {
   "cell_type": "code",
   "execution_count": 41,
   "metadata": {},
   "outputs": [],
   "source": [
    "cap = cv.VideoCapture(0)\n",
    "frame_width = int(cap.get(cv.CAP_PROP_FRAME_WIDTH))\n",
    "frame_height = int(cap.get(cv.CAP_PROP_FRAME_HEIGHT))\n",
    "frame_rate = cap.get(cv.CAP_PROP_FPS)\n",
    "fourcc = cv.VideoWriter_fourcc(*'XVID')\n",
    "out = cv.VideoWriter('./references/videos/my_snapshot.avi',\n",
    "                     fourcc, frame_rate, (frame_width, frame_height))\n",
    "\n",
    "if not cap.isOpened():\n",
    "    print(\"Cannot open camera\")\n",
    "    exit()\n",
    "while True:  # 循环生成图像文件并显示\n",
    "    ret, frame = cap.read()  # 摄像头捕捉画面成功则ret为True\n",
    "    if not ret:\n",
    "        print(\"Can't receive frame (stream end?). Exiting ...\")\n",
    "        break\n",
    "    out.write(frame)\n",
    "    cv.imshow('frame', frame)\n",
    "    if cv.waitKey(1) == ord('q'):\n",
    "        break\n",
    "\n",
    "cap.release()  # 删除cap对象的内存分配，再次开启相机需要重新创建对象\n",
    "out.release()\n",
    "cv.destroyAllWindows()"
   ]
  },
  {
   "cell_type": "markdown",
   "metadata": {},
   "source": [
    "### 视频文件的读写"
   ]
  },
  {
   "cell_type": "code",
   "execution_count": 40,
   "metadata": {},
   "outputs": [],
   "source": [
    "cap = cv.VideoCapture('./references/videos/my_snapshot.avi')\n",
    "while cap.isOpened():\n",
    "    ret, frame = cap.read()\n",
    "    if not ret:\n",
    "        break\n",
    "    cv.imshow('Myself', frame)\n",
    "    if cv.waitKey(50) == ord('q'):\n",
    "        break\n",
    "cap.release()\n",
    "cv.destroyAllWindows()"
   ]
  },
  {
   "cell_type": "markdown",
   "metadata": {},
   "source": [
    "## Debbug工具"
   ]
  },
  {
   "cell_type": "markdown",
   "metadata": {},
   "source": [
    "### 代码效率"
   ]
  },
  {
   "cell_type": "code",
   "execution_count": 49,
   "metadata": {},
   "outputs": [
    {
     "name": "stdout",
     "output_type": "stream",
     "text": [
      "hello world\n",
      "0.0001403\n"
     ]
    }
   ],
   "source": [
    "e1 = cv.getTickCount() #获取当前时钟周期数\n",
    "print(\"hello world\")\n",
    "e2 = cv.getTickCount()\n",
    "time = (e2 - e1)/ cv.getTickFrequency() #获取时钟频率\n",
    "print(time)"
   ]
  },
  {
   "cell_type": "code",
   "execution_count": null,
   "metadata": {},
   "outputs": [],
   "source": []
  }
 ],
 "metadata": {
  "kernelspec": {
   "display_name": "Python 3",
   "language": "python",
   "name": "python3"
  },
  "language_info": {
   "codemirror_mode": {
    "name": "ipython",
    "version": 3
   },
   "file_extension": ".py",
   "mimetype": "text/x-python",
   "name": "python",
   "nbconvert_exporter": "python",
   "pygments_lexer": "ipython3",
   "version": "3.7.5"
  },
  "toc": {
   "base_numbering": 1,
   "nav_menu": {},
   "number_sections": true,
   "sideBar": true,
   "skip_h1_title": false,
   "title_cell": "Table of Contents",
   "title_sidebar": "Contents",
   "toc_cell": false,
   "toc_position": {},
   "toc_section_display": true,
   "toc_window_display": false
  }
 },
 "nbformat": 4,
 "nbformat_minor": 2
}
