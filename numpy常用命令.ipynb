{
 "cells": [
  {
   "cell_type": "markdown",
   "metadata": {},
   "source": [
    "# 常用Numpy命令模板整理\n",
    "[NumPy Reference](https://docs.scipy.org/doc/numpy/reference/)"
   ]
  },
  {
   "cell_type": "code",
   "execution_count": 1,
   "metadata": {},
   "outputs": [],
   "source": [
    "import numpy as np"
   ]
  },
  {
   "cell_type": "markdown",
   "metadata": {},
   "source": [
    "## Create a ndarray 创建矩阵"
   ]
  },
  {
   "cell_type": "code",
   "execution_count": 2,
   "metadata": {},
   "outputs": [],
   "source": [
    "import numpy.random as rdm"
   ]
  },
  {
   "cell_type": "markdown",
   "metadata": {},
   "source": [
    "### Pseudorandom Array 伪随机矩阵生成"
   ]
  },
  {
   "cell_type": "code",
   "execution_count": 3,
   "metadata": {},
   "outputs": [],
   "source": [
    "rdm.seed(114514)  # 全局随机种子\n",
    "rng = rdm.RandomState(1919180)  # 指定随机种子，生成一个numpy.random对象\n",
    "arr_perm = rdm.permutation(10)  # 生成打乱矩阵\n",
    "rdm.shuffle(np.arange(10))  # 打乱原矩阵\n",
    "arr_randn = rdm.randn(2, 3)  # 创建一个期望为0，标准差为1的正态分布矩阵\n",
    "arr_rand = rdm.rand(2, 3)  # 创建一个[0,1)均匀分布矩阵\n",
    "arr_uni = rdm.uniform(2, 3, [3, 4])  # 均匀分布矩阵\n",
    "arr_bin = rdm.binomial(10, 0.5, 5)  # 二项分布矩阵\n",
    "arr_norm = rdm.normal(10, 10, [3, 4])  # 正态分布矩阵\n",
    "arr_chis = rdm.chisquare(4, [3, 4])  # 卡方分布矩阵\n",
    "arr_gamma = rdm.gamma(3, 2, [3, 4])  # 伽马分布矩阵\n",
    "arr_beta = rdm.beta(3, 2, [3, 4])  # 贝塔分布矩阵\n",
    "arr_randint = rdm.randint(1, 10, [2, 3])  # 创建一个指定上下界的随机整数矩阵\n",
    "arr_index = rdm.choice(100, 10, replace=True)  # 创建一个范围100以内，大小为10的下标向量"
   ]
  },
  {
   "cell_type": "code",
   "execution_count": 4,
   "metadata": {},
   "outputs": [],
   "source": [
    "arr_rand = np.random.rand(2, 3)  # 创建一个均匀分布的随机array"
   ]
  },
  {
   "cell_type": "code",
   "execution_count": 5,
   "metadata": {},
   "outputs": [],
   "source": [
    "arr_randint = np.random.randint(1, 10, [2, 3])  # 创建一个指定上下界的随机整数矩阵"
   ]
  },
  {
   "cell_type": "markdown",
   "metadata": {},
   "source": [
    "### Convert to a ndarray 转换生成"
   ]
  },
  {
   "cell_type": "code",
   "execution_count": 6,
   "metadata": {},
   "outputs": [],
   "source": [
    "list1 = ['1', '2', '3', '4']\n",
    "tuple1 = (5, 6, 7, 8)\n",
    "arr_list = np.array([list1, tuple1],)  # list、tuple皆可作为输入参数，转化为ndarray对象"
   ]
  },
  {
   "cell_type": "code",
   "execution_count": 7,
   "metadata": {},
   "outputs": [],
   "source": [
    "arr_numeric = arr_list.astype(np.int8)  # 将字符串array转换为指定类型array"
   ]
  },
  {
   "cell_type": "code",
   "execution_count": 8,
   "metadata": {},
   "outputs": [],
   "source": [
    "def my_function(z, y, x):\n",
    "    return x * y + z\n",
    "arr_fromfunc = np.fromfunction(my_function, (3, 2, 10)) #使用自定义方程生成矩阵的方法"
   ]
  },
  {
   "cell_type": "markdown",
   "metadata": {},
   "source": [
    "### Special Arries 特殊矩阵生成"
   ]
  },
  {
   "cell_type": "code",
   "execution_count": 9,
   "metadata": {
    "scrolled": false
   },
   "outputs": [],
   "source": [
    "arr_range = np.arange(10, dtype=np.int8)  # 类似range()函数创建列表\n",
    "arr_linspace = np.linspace(0, 2*np.pi, 100)  # 指定起讫的均间距向量"
   ]
  },
  {
   "cell_type": "code",
   "execution_count": 10,
   "metadata": {},
   "outputs": [],
   "source": [
    "arr_ones1 = np.ones([2, 3], dtype=np.float16)  # 创建全一array的两种方法\n",
    "arr_ones2 = np.ones_like(arr_range)"
   ]
  },
  {
   "cell_type": "code",
   "execution_count": 11,
   "metadata": {},
   "outputs": [],
   "source": [
    "arr_zeros1 = np.zeros([2, 3], dtype=np.complex64)  # 创建全零array的两种方法\n",
    "arr_zeros2 = np.zeros_like(arr_range)"
   ]
  },
  {
   "cell_type": "code",
   "execution_count": 12,
   "metadata": {},
   "outputs": [],
   "source": [
    "arr_empty1 = np.empty([2, 3], dtype=np.bool)  # 创建空array的两种方法\n",
    "arr_empty2 = np.empty_like(arr_range)"
   ]
  },
  {
   "cell_type": "code",
   "execution_count": 13,
   "metadata": {},
   "outputs": [],
   "source": [
    "arr_full1 = np.full([2, 3], 6, dtype=np.string_)  # 创建填充array的两种方法\n",
    "arr_full2 = np.full_like(arr_range, 6, dtype=np.int8)"
   ]
  },
  {
   "cell_type": "code",
   "execution_count": 14,
   "metadata": {},
   "outputs": [],
   "source": [
    "arr_identity = np.eye(5)  # 创建单位矩阵"
   ]
  },
  {
   "cell_type": "markdown",
   "metadata": {},
   "source": [
    "### Meshgrid Array 网格矩阵"
   ]
  },
  {
   "cell_type": "code",
   "execution_count": 15,
   "metadata": {},
   "outputs": [],
   "source": [
    "points_x = np.arange(-5, 5, 1)\n",
    "points_y = np.arange(0, 5, 1)\n",
    "xs, ys = np.meshgrid(points_x, points_y)  # 根据两个向量创建两种组合矩阵，二者同构"
   ]
  },
  {
   "cell_type": "markdown",
   "metadata": {},
   "source": [
    "---\n",
    "## Array Properties 矩阵参数"
   ]
  },
  {
   "cell_type": "code",
   "execution_count": 16,
   "metadata": {},
   "outputs": [
    {
     "data": {
      "text/plain": [
       "2"
      ]
     },
     "execution_count": 16,
     "metadata": {},
     "output_type": "execute_result"
    }
   ],
   "source": [
    "arr_rand.ndim  # 返回ndarray的维度"
   ]
  },
  {
   "cell_type": "code",
   "execution_count": 17,
   "metadata": {},
   "outputs": [
    {
     "data": {
      "text/plain": [
       "(2, 3)"
      ]
     },
     "execution_count": 17,
     "metadata": {},
     "output_type": "execute_result"
    }
   ],
   "source": [
    "arr_rand.shape  # 返回(行,列)的tuple"
   ]
  },
  {
   "cell_type": "code",
   "execution_count": 18,
   "metadata": {},
   "outputs": [
    {
     "data": {
      "text/plain": [
       "dtype('<U1')"
      ]
     },
     "execution_count": 18,
     "metadata": {},
     "output_type": "execute_result"
    }
   ],
   "source": [
    "arr_list.dtype  # 返回数值类型"
   ]
  },
  {
   "cell_type": "code",
   "execution_count": 19,
   "metadata": {},
   "outputs": [],
   "source": [
    "arr_index = np.argwhere(arr_rand > 1)  # 查找符合条件的元素下标"
   ]
  },
  {
   "cell_type": "markdown",
   "metadata": {},
   "source": [
    "## Array Alterations 矩阵操作"
   ]
  },
  {
   "cell_type": "code",
   "execution_count": 70,
   "metadata": {},
   "outputs": [],
   "source": [
    "arr1 = np.random.randint(1, 10, [3, 4])\n",
    "arr2 = np.random.randint(1, 10, [3, 4])\n",
    "arr3 = np.ones([4, 4])\n",
    "arr_ones = np.ones(4)\n",
    "arr_3D = np.arange(24).reshape(4,2,3)"
   ]
  },
  {
   "cell_type": "markdown",
   "metadata": {},
   "source": [
    "### Slicing and Concatenation 剪切与合并"
   ]
  },
  {
   "cell_type": "code",
   "execution_count": 59,
   "metadata": {},
   "outputs": [],
   "source": [
    "arr1[:, 0:2]  # 返回前两列，但不复制矩阵\n",
    "arr1_copy = arr1[0:2].copy()  # 返回前两列，产生一个独立副本\n",
    "arr_vstack = np.vstack((arr1, arr2))  # 沿列合并\n",
    "arr_hstack = np.hstack([arr1, arr2])  # 沿行合并\n",
    "arr_concatenate = np.concatenate((arr1,arr2,arr3),axis=0) #沿指定维度合并\n",
    "arr_stack = np.stack((arr1,arr2)) #将形状相同的矩阵合并成更高维度的矩阵"
   ]
  },
  {
   "cell_type": "code",
   "execution_count": 69,
   "metadata": {},
   "outputs": [],
   "source": [
    "split1,split2,split3 = np.vsplit(arr1,3) #沿列等分\n",
    "split1,split2 = np.hsplit(arr1,2) #沿行等分\n",
    "split1,split2,split3 = np.split(arr1, 3, axis=0) #沿指定维度等分\n",
    "arr1_copy = arr1[0:2].copy()  # 返回前两列，产生一个独立副本"
   ]
  },
  {
   "cell_type": "markdown",
   "metadata": {},
   "source": [
    "### Reshaping 矩阵重构"
   ]
  },
  {
   "cell_type": "code",
   "execution_count": 71,
   "metadata": {},
   "outputs": [
    {
     "data": {
      "text/plain": [
       "array([5, 3, 1, 3, 3, 8, 1, 5, 1, 7, 6, 6])"
      ]
     },
     "execution_count": 71,
     "metadata": {},
     "output_type": "execute_result"
    }
   ],
   "source": [
    "arr1_62 = arr1.reshape(6, 2)  # 将矩阵重构为指定形状（不替换）\n",
    "arr1_vec = arr1.reshape(6,-1) # 将矩阵保留第一维度，其余维度整合为一维\n",
    "arr1_T = arr1.T  # 矩阵转置\n",
    "arr_3D_T = arr_3D.transpose((1,2,0)) #多维矩阵转置，需要指定维度重排顺序\n",
    "arr_3D_swap = arr_3D.swapaxes(0,2) #仅交换两个维度的转置\n",
    "arr1.ravel() #将矩阵展开为向量"
   ]
  },
  {
   "cell_type": "markdown",
   "metadata": {},
   "source": [
    "### Sorting 矩阵排列"
   ]
  },
  {
   "cell_type": "code",
   "execution_count": 49,
   "metadata": {},
   "outputs": [],
   "source": [
    "arr1.sort(axis=1)  # 按指定维度排列，并替换原矩阵"
   ]
  },
  {
   "cell_type": "markdown",
   "metadata": {},
   "source": [
    "### Iterate遍历"
   ]
  },
  {
   "cell_type": "code",
   "execution_count": 52,
   "metadata": {},
   "outputs": [
    {
     "name": "stdout",
     "output_type": "stream",
     "text": [
      "[3 5 7 8]\n",
      "[1 1 5 9]\n",
      "[1 3 3 9]\n"
     ]
    }
   ],
   "source": [
    "#按第一维度遍历：\n",
    "for i in arr1:\n",
    "    print(i)"
   ]
  },
  {
   "cell_type": "code",
   "execution_count": 53,
   "metadata": {},
   "outputs": [
    {
     "name": "stdout",
     "output_type": "stream",
     "text": [
      "3\n",
      "5\n",
      "7\n",
      "8\n",
      "1\n",
      "1\n",
      "5\n",
      "9\n",
      "1\n",
      "3\n",
      "3\n",
      "9\n"
     ]
    }
   ],
   "source": [
    "#遍历所有元素：\n",
    "for i in arr1.flat:\n",
    "    print(i)"
   ]
  },
  {
   "cell_type": "markdown",
   "metadata": {},
   "source": [
    "## Array Operations 矩阵计算"
   ]
  },
  {
   "cell_type": "code",
   "execution_count": 25,
   "metadata": {},
   "outputs": [],
   "source": [
    "arr1 = np.random.randint(1, 10, [3, 4])\n",
    "arr2 = np.random.rand(3, 4)*10\n",
    "arr3 = np.random.randint(1, 10, [4, 4])\n",
    "arr4 = np.arange(4)"
   ]
  },
  {
   "cell_type": "markdown",
   "metadata": {},
   "source": [
    "### Unary Elementwise 单矩阵逐元素"
   ]
  },
  {
   "cell_type": "code",
   "execution_count": 26,
   "metadata": {},
   "outputs": [],
   "source": [
    "arr1_abs = np.abs(arr1)  # 绝对值\n",
    "arr1_sqrt = np.sqrt(np.abs(arr1))  # 开根号\n",
    "arr1_square = np.square(arr1)  # 平方\n",
    "arr1_time = arr1**3  # 任意次方"
   ]
  },
  {
   "cell_type": "code",
   "execution_count": 27,
   "metadata": {},
   "outputs": [],
   "source": [
    "arr1_exp = np.exp(arr1)  # e为底数的幂\n",
    "arr1_log = np.log(arr1)  # 自然对数\n",
    "arr1_log10 = np.log10(arr1)  # 10为底的对数\n",
    "arr1_log2 = np.log2(arr1)  # 2为底的对数\n",
    "arr1_log1p = np.log1p(arr1)  # log(1+x)\n",
    "arr1_sign = np.sign(arr1)  # sign方程"
   ]
  },
  {
   "cell_type": "code",
   "execution_count": 28,
   "metadata": {},
   "outputs": [],
   "source": [
    "arr2_ceil = np.ceil(arr2)  # 向上取整\n",
    "arr2_floor = np.floor(arr2)  # 向下取整\n",
    "arr2_round = np.rint(arr2)  # 四舍五入\n",
    "frac2, int2 = np.modf(arr2)  # 取小数、取整"
   ]
  },
  {
   "cell_type": "code",
   "execution_count": 29,
   "metadata": {},
   "outputs": [],
   "source": [
    "arr1_isnan = np.isnan(arr1)  # 判断是否为数值\n",
    "arr1_isfinite = np.isfinite(arr1)  # 判断是否有穷\n",
    "arr1_isinf = np.isinf(arr1)  # 判断是否无穷"
   ]
  },
  {
   "cell_type": "code",
   "execution_count": 30,
   "metadata": {},
   "outputs": [
    {
     "name": "stderr",
     "output_type": "stream",
     "text": [
      "D:\\Anaconda\\lib\\site-packages\\ipykernel_launcher.py:8: RuntimeWarning: invalid value encountered in arccosh\n",
      "  \n"
     ]
    }
   ],
   "source": [
    "arr1_cos = np.cos(arr1)  # 各种三角函数\n",
    "arr1_cosh = np.cosh(arr1)\n",
    "arr1_sin = np.sin(arr1)\n",
    "arr1_sinh = np.sinh(arr1)\n",
    "arr1_tan = np.tan(arr1)\n",
    "arr1_tanh = np.tanh(arr1)\n",
    "arr2_arccos = np.arccos(arr2/10)  # 各种反三角函数\n",
    "arr2_arccosh = np.arccosh(arr2/10)\n",
    "arr2_arcsin = np.arcsin(arr2/10)\n",
    "arr2_arcsinh = np.arcsinh(arr2/10)\n",
    "arr2_arctan = np.arctan(arr2/10)\n",
    "arr2_arctanh = np.arctanh(arr2/10)"
   ]
  },
  {
   "cell_type": "markdown",
   "metadata": {},
   "source": [
    "### Binary Elementwise 双矩阵逐元素"
   ]
  },
  {
   "cell_type": "code",
   "execution_count": 31,
   "metadata": {},
   "outputs": [],
   "source": [
    "arr_multi = arr1*arr2  # 矩阵逐项乘法1\n",
    "arr_multi = np.multiply(arr1, arr2)  # 矩阵逐项乘法2\n",
    "arr_devide = 1/arr1  # 矩阵逐项除法1\n",
    "arr_devide = np.divide(arr1, arr2)  # 矩阵逐项除法2\n",
    "arr_fdevide = np.floor_divide(arr1, arr2)  # 矩阵逐项整除\n",
    "arr_mod = np.mod(arr1, arr2)  # 矩阵逐项求余\n",
    "arr_add = arr1+arr2  # 矩阵逐项加法1\n",
    "arr_add = np.add(arr1, arr2)  # 矩阵逐项加法2\n",
    "arr_minus = arr1-arr2  # 矩阵逐项减法1\n",
    "arr_subtract = np.subtract(arr1, arr2)  # 矩阵逐项减法2\n",
    "arr_power = np.power(arr1, arr2)  # 矩阵1的矩阵2次方"
   ]
  },
  {
   "cell_type": "code",
   "execution_count": 32,
   "metadata": {},
   "outputs": [],
   "source": [
    "arr_max = np.maximum(arr1, arr2)  # 求较大值1\n",
    "arr_max = np.fmax(arr1, arr2)  # 求较大值2，忽略NaN\n",
    "arr_min = np.minimum(arr1, arr2)  # 求较小值1\n",
    "arr_min = np.fmin(arr1, arr2)  # 求较小值2，忽略NaN\n",
    "arr_copysign = np.copysign(arr1, arr2)  # 令矩阵1同矩阵2符号相同"
   ]
  },
  {
   "cell_type": "code",
   "execution_count": 33,
   "metadata": {},
   "outputs": [],
   "source": [
    "arr_greater = arr1 > arr2  # 各种布尔比大小\n",
    "arr_lessequal = arr1 <= arr2\n",
    "arr_equal = arr1 == 5\n",
    "arr_greater = np.greater(arr1, arr2)\n",
    "arr_greaterequal = np.greater_equal(arr1, arr2)\n",
    "arr_less = np.less(arr1, arr2)\n",
    "arr_lessequal = np.less_equal(arr1, arr2)\n",
    "arr_equal = np.equal(arr1, arr2)\n",
    "arr_notequal = np.not_equal(arr1, arr2)"
   ]
  },
  {
   "cell_type": "code",
   "execution_count": 34,
   "metadata": {},
   "outputs": [],
   "source": [
    "arr_and = arr_less & arr_lessequal  # 各种布尔运算\n",
    "arr_and = np.logical_and(arr_less, arr_lessequal)\n",
    "arr_or = arr_less | arr_lessequal\n",
    "arr_or = np.logical_or(arr_less, arr_lessequal)\n",
    "arr_xor = arr_less ^ arr_lessequal\n",
    "arr_xor = np.logical_xor(arr_less, arr_lessequal)\n",
    "arr_not = ~arr_less\n",
    "arr_and = np.logical_not(arr_less)"
   ]
  },
  {
   "cell_type": "code",
   "execution_count": 35,
   "metadata": {},
   "outputs": [],
   "source": [
    "arr_randn = np.random.randn(4, 4)\n",
    "arr_cond = np.where(arr_randn > 0, 1, -1)  # where函数，满足变量一时，填入变量二，否则填入变量三"
   ]
  },
  {
   "cell_type": "markdown",
   "metadata": {},
   "source": [
    "### Matrixwise 矩阵运算"
   ]
  },
  {
   "cell_type": "code",
   "execution_count": 36,
   "metadata": {},
   "outputs": [],
   "source": [
    "import numpy.linalg as lin"
   ]
  },
  {
   "cell_type": "code",
   "execution_count": 37,
   "metadata": {},
   "outputs": [],
   "source": [
    "arr_dot = arr1.dot(arr3)  # 矩阵点乘1\n",
    "arr_dot = np.dot(arr1, arr3)  # 矩阵点乘2\n",
    "arr_dot = arr1@arr3  # 矩阵点乘3\n",
    "arr_diag = np.diag(arr4)  # 向量/对角矩阵转换\n",
    "arr_trace = np.trace(arr3)  # 求迹"
   ]
  },
  {
   "cell_type": "code",
   "execution_count": 38,
   "metadata": {},
   "outputs": [
    {
     "name": "stderr",
     "output_type": "stream",
     "text": [
      "D:\\Anaconda\\lib\\site-packages\\ipykernel_launcher.py:8: FutureWarning: `rcond` parameter will change to the default of machine precision times ``max(M, N)`` where M and N are the input matrix dimensions.\n",
      "To use the future default and silence this warning we advise to pass `rcond=None`, to keep using the old, explicitly pass `rcond=-1`.\n",
      "  \n"
     ]
    }
   ],
   "source": [
    "arr_det = lin.det(arr3)  # 求行列式\n",
    "eigen_value, eigen_vector = lin.eig(arr3)  # 求特征值和特征向量\n",
    "arr_inv = lin.inv(arr3)  # 求逆\n",
    "arr_pinv = lin.pinv(arr3)  # 求逆（伪）\n",
    "q, r = lin.qr(arr3)  # qr分解\n",
    "s, v, d = lin.svd(arr3)  # svd分解\n",
    "x = lin.solve(arr3, arr4)  # 求解线性方程\n",
    "a, b, c, d = lin.lstsq(arr3, arr4)  # 求解least-square方程"
   ]
  },
  {
   "cell_type": "markdown",
   "metadata": {},
   "source": [
    "## Array Data 矩阵统计数据"
   ]
  },
  {
   "cell_type": "code",
   "execution_count": 39,
   "metadata": {},
   "outputs": [],
   "source": [
    "arr1 = np.random.randint(1, 10, [3, 4])\n",
    "arr2 = np.random.randint(1, 10, [3, 4])\n",
    "arr3 = np.ones([4, 4])\n",
    "arr_bools = (np.random.rand(3, 4)-0.5) >= 0"
   ]
  },
  {
   "cell_type": "markdown",
   "metadata": {},
   "source": [
    "### Statistical Methods 统计值"
   ]
  },
  {
   "cell_type": "code",
   "execution_count": 40,
   "metadata": {},
   "outputs": [],
   "source": [
    "arr1_sum = arr1.sum()  # 求和\n",
    "arr1_mean = arr1.mean(axis=0)  # 求平均\n",
    "arr1_std = arr1.std(axis=1)  # 求标准差\n",
    "arr1_var = arr1.var()  # 求方差\n",
    "arr1_min = arr1.min()  # 求最小值\n",
    "arr1_mini = arr1.argmin()  # 最小值的序号\n",
    "arr1_max = arr1.max()  # 求最大值\n",
    "arr1_maxi = arr1.argmax()  # 最大值的序号\n",
    "arr1_cumsum = arr1.cumsum()  # 累加，根据输入参数返回同构矩阵/函数\n",
    "arr1_cumprod = arr1.cumprod(axis=0)  # 累乘，根据输入参数返回同构矩阵/函数"
   ]
  },
  {
   "cell_type": "markdown",
   "metadata": {},
   "source": [
    "### Boolean Methods 布尔统计"
   ]
  },
  {
   "cell_type": "code",
   "execution_count": 41,
   "metadata": {},
   "outputs": [],
   "source": [
    "arr_any = arr_bools.any()  # 查找是否存在true\n",
    "arr_all = arr_bools.all()  # 查找是否全为true"
   ]
  },
  {
   "cell_type": "markdown",
   "metadata": {},
   "source": [
    "### Array Set 集"
   ]
  },
  {
   "cell_type": "code",
   "execution_count": 42,
   "metadata": {},
   "outputs": [],
   "source": [
    "arr1_unique = np.unique(arr1)  # 所有不同元素\n",
    "arr_intersect = np.intersect1d(arr1, arr2)  # 求交集\n",
    "arr_union = np.union1d(arr1, arr2)  # 求并集\n",
    "arr_contain = np.in1d(arr1, arr2)  # 是否包含\n",
    "arr_diff = np.setdiff1d(arr1, arr2)  # arr1/arr2\n",
    "arr_xor = np.setxor1d(arr1, arr2)  # 并集/交集"
   ]
  },
  {
   "cell_type": "markdown",
   "metadata": {},
   "source": [
    "## Save/Load SL大法"
   ]
  },
  {
   "cell_type": "code",
   "execution_count": 43,
   "metadata": {},
   "outputs": [],
   "source": [
    "arr1 = np.random.randint(1, 10, [3, 4])\n",
    "arr2 = np.random.rand(3, 4)*10"
   ]
  },
  {
   "cell_type": "markdown",
   "metadata": {},
   "source": [
    "### Single Array S/L 保存一个矩阵"
   ]
  },
  {
   "cell_type": "code",
   "execution_count": 44,
   "metadata": {},
   "outputs": [
    {
     "data": {
      "text/plain": [
       "array([[8, 7, 3, 5],\n",
       "       [1, 5, 1, 9],\n",
       "       [3, 3, 1, 9]])"
      ]
     },
     "execution_count": 44,
     "metadata": {},
     "output_type": "execute_result"
    }
   ],
   "source": [
    "np.save('single_exp', arr1)  # 保存单个矩阵，格式默认为.npy\n",
    "np.load('single_exp.npy')  # 读取单个矩阵"
   ]
  },
  {
   "cell_type": "markdown",
   "metadata": {},
   "source": [
    "### Multiple Array S/L 保存多个矩阵"
   ]
  },
  {
   "cell_type": "code",
   "execution_count": 45,
   "metadata": {},
   "outputs": [
    {
     "data": {
      "text/plain": [
       "array([[3.82867967, 9.01491511, 7.71566591, 7.81747535],\n",
       "       [5.34561149, 9.03919636, 4.38277364, 5.36089125],\n",
       "       [9.71207606, 5.70988454, 1.66724387, 4.91499857]])"
      ]
     },
     "execution_count": 45,
     "metadata": {},
     "output_type": "execute_result"
    }
   ],
   "source": [
    "np.savez('multi_exp', a=arr1, b=arr2)  # 保存多个矩阵为一个字典，格式默认为.npz\n",
    "arch = np.load('multi_exp.npz')  # 读取多矩阵文件\n",
    "arch['b']  # 根据索引查找矩阵"
   ]
  }
 ],
 "metadata": {
  "kernelspec": {
   "display_name": "Python 3",
   "language": "python",
   "name": "python3"
  },
  "language_info": {
   "codemirror_mode": {
    "name": "ipython",
    "version": 3
   },
   "file_extension": ".py",
   "mimetype": "text/x-python",
   "name": "python",
   "nbconvert_exporter": "python",
   "pygments_lexer": "ipython3",
   "version": "3.7.5"
  },
  "toc": {
   "base_numbering": 1,
   "nav_menu": {},
   "number_sections": true,
   "sideBar": true,
   "skip_h1_title": false,
   "title_cell": "Table of Contents",
   "title_sidebar": "Contents",
   "toc_cell": false,
   "toc_position": {
    "height": "calc(100% - 180px)",
    "left": "10px",
    "top": "150px",
    "width": "191.55px"
   },
   "toc_section_display": true,
   "toc_window_display": false
  }
 },
 "nbformat": 4,
 "nbformat_minor": 2
}
